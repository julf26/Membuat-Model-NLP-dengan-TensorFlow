{
  "nbformat": 4,
  "nbformat_minor": 0,
  "metadata": {
    "colab": {
      "name": "NPL_fix.ipynb",
      "provenance": [],
      "collapsed_sections": []
    },
    "kernelspec": {
      "name": "python3",
      "display_name": "Python 3"
    },
    "language_info": {
      "name": "python"
    },
    "accelerator": "GPU"
  },
  "cells": [
    {
      "cell_type": "markdown",
      "metadata": {
        "id": "90xWmq0WyVUt"
      },
      "source": [
        "Nama : Zulfikri\n",
        "\n",
        "Email : zulfikri263@gmail.com\n",
        "\n",
        "Alamat : Jalan Mustafa Yatim, Kota Pekanbaru, Riau\n",
        "\n",
        "**Proyek Pertama : Membuat Model NLP dengan TensorFlow**"
      ]
    },
    {
      "cell_type": "code",
      "metadata": {
        "colab": {
          "base_uri": "https://localhost:8080/",
          "height": 417
        },
        "id": "19mprpUrgTya",
        "outputId": "14eb7b6d-5049-4c01-a187-b759d873bf6c"
      },
      "source": [
        "import pandas as pd\n",
        "\n",
        "df = pd.read_csv('/content/drive/MyDrive/Machine Learning/interview_data.csv', encoding='latin-1')\n",
        "\n",
        "df"
      ],
      "execution_count": 1,
      "outputs": [
        {
          "output_type": "execute_result",
          "data": {
            "text/html": [
              "<div>\n",
              "<style scoped>\n",
              "    .dataframe tbody tr th:only-of-type {\n",
              "        vertical-align: middle;\n",
              "    }\n",
              "\n",
              "    .dataframe tbody tr th {\n",
              "        vertical-align: top;\n",
              "    }\n",
              "\n",
              "    .dataframe thead th {\n",
              "        text-align: right;\n",
              "    }\n",
              "</style>\n",
              "<table border=\"1\" class=\"dataframe\">\n",
              "  <thead>\n",
              "    <tr style=\"text-align: right;\">\n",
              "      <th></th>\n",
              "      <th>RowId</th>\n",
              "      <th>team1</th>\n",
              "      <th>team2</th>\n",
              "      <th>date</th>\n",
              "      <th>name</th>\n",
              "      <th>job</th>\n",
              "      <th>text</th>\n",
              "    </tr>\n",
              "  </thead>\n",
              "  <tbody>\n",
              "    <tr>\n",
              "      <th>0</th>\n",
              "      <td>0</td>\n",
              "      <td>blackhawks</td>\n",
              "      <td>lightning</td>\n",
              "      <td>2015-06-02</td>\n",
              "      <td>stan bowman</td>\n",
              "      <td>other</td>\n",
              "      <td>well we're very fortunate to have the players ...</td>\n",
              "    </tr>\n",
              "    <tr>\n",
              "      <th>1</th>\n",
              "      <td>1</td>\n",
              "      <td>blackhawks</td>\n",
              "      <td>lightning</td>\n",
              "      <td>2015-06-02</td>\n",
              "      <td>steve yzerman</td>\n",
              "      <td>other</td>\n",
              "      <td>no we didn't really set a timeline on it i wou...</td>\n",
              "    </tr>\n",
              "    <tr>\n",
              "      <th>2</th>\n",
              "      <td>2</td>\n",
              "      <td>blackhawks</td>\n",
              "      <td>lightning</td>\n",
              "      <td>2015-06-03</td>\n",
              "      <td>antoine vermette</td>\n",
              "      <td>player</td>\n",
              "      <td>that's a good question i don't recall specific...</td>\n",
              "    </tr>\n",
              "    <tr>\n",
              "      <th>3</th>\n",
              "      <td>3</td>\n",
              "      <td>blackhawks</td>\n",
              "      <td>lightning</td>\n",
              "      <td>2015-06-03</td>\n",
              "      <td>joel quenneville</td>\n",
              "      <td>coach</td>\n",
              "      <td>yeah we got better as the game went on i thoug...</td>\n",
              "    </tr>\n",
              "    <tr>\n",
              "      <th>4</th>\n",
              "      <td>4</td>\n",
              "      <td>blackhawks</td>\n",
              "      <td>lightning</td>\n",
              "      <td>2015-06-03</td>\n",
              "      <td>jon cooper</td>\n",
              "      <td>coach</td>\n",
              "      <td>i don't know i think the way i'd look at the g...</td>\n",
              "    </tr>\n",
              "    <tr>\n",
              "      <th>...</th>\n",
              "      <td>...</td>\n",
              "      <td>...</td>\n",
              "      <td>...</td>\n",
              "      <td>...</td>\n",
              "      <td>...</td>\n",
              "      <td>...</td>\n",
              "      <td>...</td>\n",
              "    </tr>\n",
              "    <tr>\n",
              "      <th>2091</th>\n",
              "      <td>2091</td>\n",
              "      <td>stars</td>\n",
              "      <td>devils</td>\n",
              "      <td>2000-06-10</td>\n",
              "      <td>mike modano</td>\n",
              "      <td>player</td>\n",
              "      <td>i think in the last our two home games we had ...</td>\n",
              "    </tr>\n",
              "    <tr>\n",
              "      <th>2092</th>\n",
              "      <td>2092</td>\n",
              "      <td>stars</td>\n",
              "      <td>devils</td>\n",
              "      <td>2000-06-10</td>\n",
              "      <td>richard matvichuk</td>\n",
              "      <td>player</td>\n",
              "      <td>when you get to this point of the year you got...</td>\n",
              "    </tr>\n",
              "    <tr>\n",
              "      <th>2093</th>\n",
              "      <td>2093</td>\n",
              "      <td>stars</td>\n",
              "      <td>devils</td>\n",
              "      <td>2000-06-10</td>\n",
              "      <td>scott gomez</td>\n",
              "      <td>player</td>\n",
              "      <td>yeah it was in the bag laughs no it just i don...</td>\n",
              "    </tr>\n",
              "    <tr>\n",
              "      <th>2094</th>\n",
              "      <td>2094</td>\n",
              "      <td>stars</td>\n",
              "      <td>devils</td>\n",
              "      <td>2000-06-10</td>\n",
              "      <td>scott niedermayer</td>\n",
              "      <td>player</td>\n",
              "      <td>he definitely deserved it there is no doubt ab...</td>\n",
              "    </tr>\n",
              "    <tr>\n",
              "      <th>2095</th>\n",
              "      <td>2095</td>\n",
              "      <td>stars</td>\n",
              "      <td>devils</td>\n",
              "      <td>2000-06-10</td>\n",
              "      <td>scott stevens</td>\n",
              "      <td>player</td>\n",
              "      <td>yeah definitely tiring to me we have played so...</td>\n",
              "    </tr>\n",
              "  </tbody>\n",
              "</table>\n",
              "<p>2096 rows × 7 columns</p>\n",
              "</div>"
            ],
            "text/plain": [
              "      RowId  ...                                               text\n",
              "0         0  ...  well we're very fortunate to have the players ...\n",
              "1         1  ...  no we didn't really set a timeline on it i wou...\n",
              "2         2  ...  that's a good question i don't recall specific...\n",
              "3         3  ...  yeah we got better as the game went on i thoug...\n",
              "4         4  ...  i don't know i think the way i'd look at the g...\n",
              "...     ...  ...                                                ...\n",
              "2091   2091  ...  i think in the last our two home games we had ...\n",
              "2092   2092  ...  when you get to this point of the year you got...\n",
              "2093   2093  ...  yeah it was in the bag laughs no it just i don...\n",
              "2094   2094  ...  he definitely deserved it there is no doubt ab...\n",
              "2095   2095  ...  yeah definitely tiring to me we have played so...\n",
              "\n",
              "[2096 rows x 7 columns]"
            ]
          },
          "metadata": {
            "tags": []
          },
          "execution_count": 1
        }
      ]
    },
    {
      "cell_type": "code",
      "metadata": {
        "colab": {
          "base_uri": "https://localhost:8080/",
          "height": 417
        },
        "id": "S0zSIWhHoEIg",
        "outputId": "6ff637ca-a16f-40c3-891a-29ba9671ddcd"
      },
      "source": [
        "#df = df.drop(columns=['RowId', 'team1', 'team2', 'date', 'name'])\n",
        "category = pd.get_dummies(df.job)\n",
        "df_baru = pd.concat([df, category], axis=1)\n",
        "df_baru = df_baru.drop(columns='job')\n",
        "df_baru"
      ],
      "execution_count": 2,
      "outputs": [
        {
          "output_type": "execute_result",
          "data": {
            "text/html": [
              "<div>\n",
              "<style scoped>\n",
              "    .dataframe tbody tr th:only-of-type {\n",
              "        vertical-align: middle;\n",
              "    }\n",
              "\n",
              "    .dataframe tbody tr th {\n",
              "        vertical-align: top;\n",
              "    }\n",
              "\n",
              "    .dataframe thead th {\n",
              "        text-align: right;\n",
              "    }\n",
              "</style>\n",
              "<table border=\"1\" class=\"dataframe\">\n",
              "  <thead>\n",
              "    <tr style=\"text-align: right;\">\n",
              "      <th></th>\n",
              "      <th>RowId</th>\n",
              "      <th>team1</th>\n",
              "      <th>team2</th>\n",
              "      <th>date</th>\n",
              "      <th>name</th>\n",
              "      <th>text</th>\n",
              "      <th>coach</th>\n",
              "      <th>other</th>\n",
              "      <th>player</th>\n",
              "    </tr>\n",
              "  </thead>\n",
              "  <tbody>\n",
              "    <tr>\n",
              "      <th>0</th>\n",
              "      <td>0</td>\n",
              "      <td>blackhawks</td>\n",
              "      <td>lightning</td>\n",
              "      <td>2015-06-02</td>\n",
              "      <td>stan bowman</td>\n",
              "      <td>well we're very fortunate to have the players ...</td>\n",
              "      <td>0</td>\n",
              "      <td>1</td>\n",
              "      <td>0</td>\n",
              "    </tr>\n",
              "    <tr>\n",
              "      <th>1</th>\n",
              "      <td>1</td>\n",
              "      <td>blackhawks</td>\n",
              "      <td>lightning</td>\n",
              "      <td>2015-06-02</td>\n",
              "      <td>steve yzerman</td>\n",
              "      <td>no we didn't really set a timeline on it i wou...</td>\n",
              "      <td>0</td>\n",
              "      <td>1</td>\n",
              "      <td>0</td>\n",
              "    </tr>\n",
              "    <tr>\n",
              "      <th>2</th>\n",
              "      <td>2</td>\n",
              "      <td>blackhawks</td>\n",
              "      <td>lightning</td>\n",
              "      <td>2015-06-03</td>\n",
              "      <td>antoine vermette</td>\n",
              "      <td>that's a good question i don't recall specific...</td>\n",
              "      <td>0</td>\n",
              "      <td>0</td>\n",
              "      <td>1</td>\n",
              "    </tr>\n",
              "    <tr>\n",
              "      <th>3</th>\n",
              "      <td>3</td>\n",
              "      <td>blackhawks</td>\n",
              "      <td>lightning</td>\n",
              "      <td>2015-06-03</td>\n",
              "      <td>joel quenneville</td>\n",
              "      <td>yeah we got better as the game went on i thoug...</td>\n",
              "      <td>1</td>\n",
              "      <td>0</td>\n",
              "      <td>0</td>\n",
              "    </tr>\n",
              "    <tr>\n",
              "      <th>4</th>\n",
              "      <td>4</td>\n",
              "      <td>blackhawks</td>\n",
              "      <td>lightning</td>\n",
              "      <td>2015-06-03</td>\n",
              "      <td>jon cooper</td>\n",
              "      <td>i don't know i think the way i'd look at the g...</td>\n",
              "      <td>1</td>\n",
              "      <td>0</td>\n",
              "      <td>0</td>\n",
              "    </tr>\n",
              "    <tr>\n",
              "      <th>...</th>\n",
              "      <td>...</td>\n",
              "      <td>...</td>\n",
              "      <td>...</td>\n",
              "      <td>...</td>\n",
              "      <td>...</td>\n",
              "      <td>...</td>\n",
              "      <td>...</td>\n",
              "      <td>...</td>\n",
              "      <td>...</td>\n",
              "    </tr>\n",
              "    <tr>\n",
              "      <th>2091</th>\n",
              "      <td>2091</td>\n",
              "      <td>stars</td>\n",
              "      <td>devils</td>\n",
              "      <td>2000-06-10</td>\n",
              "      <td>mike modano</td>\n",
              "      <td>i think in the last our two home games we had ...</td>\n",
              "      <td>0</td>\n",
              "      <td>0</td>\n",
              "      <td>1</td>\n",
              "    </tr>\n",
              "    <tr>\n",
              "      <th>2092</th>\n",
              "      <td>2092</td>\n",
              "      <td>stars</td>\n",
              "      <td>devils</td>\n",
              "      <td>2000-06-10</td>\n",
              "      <td>richard matvichuk</td>\n",
              "      <td>when you get to this point of the year you got...</td>\n",
              "      <td>0</td>\n",
              "      <td>0</td>\n",
              "      <td>1</td>\n",
              "    </tr>\n",
              "    <tr>\n",
              "      <th>2093</th>\n",
              "      <td>2093</td>\n",
              "      <td>stars</td>\n",
              "      <td>devils</td>\n",
              "      <td>2000-06-10</td>\n",
              "      <td>scott gomez</td>\n",
              "      <td>yeah it was in the bag laughs no it just i don...</td>\n",
              "      <td>0</td>\n",
              "      <td>0</td>\n",
              "      <td>1</td>\n",
              "    </tr>\n",
              "    <tr>\n",
              "      <th>2094</th>\n",
              "      <td>2094</td>\n",
              "      <td>stars</td>\n",
              "      <td>devils</td>\n",
              "      <td>2000-06-10</td>\n",
              "      <td>scott niedermayer</td>\n",
              "      <td>he definitely deserved it there is no doubt ab...</td>\n",
              "      <td>0</td>\n",
              "      <td>0</td>\n",
              "      <td>1</td>\n",
              "    </tr>\n",
              "    <tr>\n",
              "      <th>2095</th>\n",
              "      <td>2095</td>\n",
              "      <td>stars</td>\n",
              "      <td>devils</td>\n",
              "      <td>2000-06-10</td>\n",
              "      <td>scott stevens</td>\n",
              "      <td>yeah definitely tiring to me we have played so...</td>\n",
              "      <td>0</td>\n",
              "      <td>0</td>\n",
              "      <td>1</td>\n",
              "    </tr>\n",
              "  </tbody>\n",
              "</table>\n",
              "<p>2096 rows × 9 columns</p>\n",
              "</div>"
            ],
            "text/plain": [
              "      RowId       team1      team2  ... coach other player\n",
              "0         0  blackhawks  lightning  ...     0     1      0\n",
              "1         1  blackhawks  lightning  ...     0     1      0\n",
              "2         2  blackhawks  lightning  ...     0     0      1\n",
              "3         3  blackhawks  lightning  ...     1     0      0\n",
              "4         4  blackhawks  lightning  ...     1     0      0\n",
              "...     ...         ...        ...  ...   ...   ...    ...\n",
              "2091   2091       stars     devils  ...     0     0      1\n",
              "2092   2092       stars     devils  ...     0     0      1\n",
              "2093   2093       stars     devils  ...     0     0      1\n",
              "2094   2094       stars     devils  ...     0     0      1\n",
              "2095   2095       stars     devils  ...     0     0      1\n",
              "\n",
              "[2096 rows x 9 columns]"
            ]
          },
          "metadata": {
            "tags": []
          },
          "execution_count": 2
        }
      ]
    },
    {
      "cell_type": "code",
      "metadata": {
        "colab": {
          "base_uri": "https://localhost:8080/"
        },
        "id": "xR6LlowQom8A",
        "outputId": "fc6009da-9205-4541-8eb7-6c507d54d99d"
      },
      "source": [
        "list(df_baru.columns.values)"
      ],
      "execution_count": null,
      "outputs": [
        {
          "output_type": "execute_result",
          "data": {
            "text/plain": [
              "['text', 'coach', 'other', 'player']"
            ]
          },
          "metadata": {
            "tags": []
          },
          "execution_count": 9
        }
      ]
    },
    {
      "cell_type": "code",
      "metadata": {
        "id": "xSSknYXHo0yf"
      },
      "source": [
        "txt = df_baru['text'].values\n",
        "label = df_baru[['coach', 'other', 'player']].values"
      ],
      "execution_count": 3,
      "outputs": []
    },
    {
      "cell_type": "code",
      "metadata": {
        "id": "I969V-ZbpMgA"
      },
      "source": [
        "import tensorflow as tf\n",
        "from tensorflow.keras.preprocessing.text import Tokenizer\n",
        "from tensorflow.keras.preprocessing.sequence import pad_sequences\n",
        "from sklearn.model_selection import train_test_split\n",
        "\n",
        "txt_latih, txt_test, label_latih, label_test = train_test_split(txt, label, test_size=0.2)"
      ],
      "execution_count": 4,
      "outputs": []
    },
    {
      "cell_type": "code",
      "metadata": {
        "id": "mEwX8XmBpPHv"
      },
      "source": [
        "tokenizer = Tokenizer(num_words=5000, oov_token='x', filters='!\"#$%&()*+,-./:;<=>?@[\\\\]^_`{|}~\\t\\n', lower=True, split=\" \")\n",
        "tokenizer.fit_on_texts(txt_latih) \n",
        "tokenizer.fit_on_texts(txt_test)\n",
        " \n",
        "sekuens_latih = tokenizer.texts_to_sequences(txt_latih)\n",
        "sekuens_test = tokenizer.texts_to_sequences(txt_test)\n",
        " \n",
        "padded_latih = pad_sequences(sekuens_latih) \n",
        "padded_test = pad_sequences(sekuens_test)"
      ],
      "execution_count": 5,
      "outputs": []
    },
    {
      "cell_type": "code",
      "metadata": {
        "id": "TAE5rQ8jpdfX"
      },
      "source": [
        "x=len(tokenizer.word_index)\n",
        "\n",
        "model = tf.keras.Sequential([\n",
        "    tf.keras.layers.Embedding(input_dim=x+1, output_dim=100),\n",
        "    tf.keras.layers.LSTM(128),\n",
        "    tf.keras.layers.Dense(16, kernel_regularizer='l1'),\n",
        "    tf.keras.layers.Dense(128, activation='relu'),\n",
        "    tf.keras.layers.Dense(32, kernel_regularizer='l2'),\n",
        "    tf.keras.layers.Dropout(0.7),\n",
        "    tf.keras.layers.Dense(64, activation='relu'),\n",
        "    tf.keras.layers.Dropout(0.5),\n",
        "    tf.keras.layers.Dense(3, activation='softmax')\n",
        "])\n",
        "#opt = tf.keras.optimizers.Adam(learning_rate=0.01)\n",
        "model.compile(loss='categorical_crossentropy',optimizer='Adam', metrics=['accuracy'])\n",
        "\n",
        "class myCallback(tf.keras.callbacks.Callback):\n",
        "  def on_epoch_end(self, epoch, logs={}):\n",
        "    if(logs.get('accuracy')>0.9 and logs.get('val_accuracy') > 0.75):\n",
        "      print(\">90% accuracy and val_accuraccy accrued\")\n",
        "      self.model.stop_training = True\n",
        "callbacks = myCallback()"
      ],
      "execution_count": 34,
      "outputs": []
    },
    {
      "cell_type": "code",
      "metadata": {
        "colab": {
          "base_uri": "https://localhost:8080/"
        },
        "id": "qZcu0DujpicH",
        "outputId": "d789b29e-0b20-4132-f237-2f03f786ce95"
      },
      "source": [
        "num_epochs = 30\n",
        "history = model.fit(padded_latih, label_latih, epochs=num_epochs, \n",
        "                    validation_data=(padded_test, label_test), batch_size=5, verbose=2, callbacks=[callbacks])"
      ],
      "execution_count": 36,
      "outputs": [
        {
          "output_type": "stream",
          "text": [
            "Epoch 1/30\n",
            "336/336 - 61s - loss: 0.7261 - accuracy: 0.7387 - val_loss: 0.6818 - val_accuracy: 0.7530\n",
            "Epoch 2/30\n",
            "336/336 - 59s - loss: 0.5604 - accuracy: 0.7852 - val_loss: 0.5843 - val_accuracy: 0.8006\n",
            "Epoch 3/30\n",
            "336/336 - 59s - loss: 0.4631 - accuracy: 0.8562 - val_loss: 0.4879 - val_accuracy: 0.8512\n",
            "Epoch 4/30\n",
            "336/336 - 60s - loss: 0.3853 - accuracy: 0.8920 - val_loss: 0.3817 - val_accuracy: 0.8929\n",
            "Epoch 5/30\n",
            "336/336 - 59s - loss: 0.3099 - accuracy: 0.9171 - val_loss: 0.2804 - val_accuracy: 0.9256\n",
            ">90% accuracy and val_accuraccy accrued\n"
          ],
          "name": "stdout"
        }
      ]
    },
    {
      "cell_type": "code",
      "metadata": {
        "colab": {
          "base_uri": "https://localhost:8080/",
          "height": 350
        },
        "id": "u86cBQsfEp9o",
        "outputId": "1724b789-9253-4a26-f9f0-54fcf8e7207a"
      },
      "source": [
        "import matplotlib.pyplot as plt\n",
        "\n",
        "plt.subplots(figsize=(10, 5))\n",
        "plt.subplot(1, 2, 1)\n",
        "plt.plot(history.history['accuracy'], 'o-')\n",
        "plt.plot(history.history['val_accuracy'], 'o-')\n",
        "plt.title('Model accuracy')\n",
        "plt.ylabel('Accuracy')\n",
        "plt.xlabel('Epoch')\n",
        "plt.legend(['Train', 'Val'], loc='best')\n",
        "plt.grid()\n",
        "\n",
        "plt.subplot(1, 2, 2)\n",
        "plt.plot(history.history['loss'], 'o-')\n",
        "plt.plot(history.history['val_loss'], 'o-')\n",
        "plt.title('Model loss')\n",
        "plt.ylabel('Loss')\n",
        "plt.xlabel('Epoch')\n",
        "plt.legend(['Train', 'Val'], loc='best')\n",
        "plt.grid()\n",
        "\n",
        "\n",
        "plt.show()"
      ],
      "execution_count": 37,
      "outputs": [
        {
          "output_type": "display_data",
          "data": {
            "image/png": "[encoded data removed]",
            "text/plain": [
              "<Figure size 720x360 with 2 Axes>"
            ]
          },
          "metadata": {
            "tags": [],
            "needs_background": "light"
          }
        }
      ]
    }
  ]
}